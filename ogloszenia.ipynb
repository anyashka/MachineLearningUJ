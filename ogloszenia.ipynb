{
 "cells": [
  {
   "cell_type": "markdown",
   "metadata": {},
   "source": [
    "# Seminaria\n",
    "\n",
    "1. Seminarium Zakładu Uczenia Maszynowego - czw. 14-16, sala 1146; seminarium katedralne, wstęp wyłącznie dla studentów, którzy piszą pracę licencjacką/magisterską pod kierunkiem pracownika Katedry Uczenia Maszynowego.\n",
    "2. Seminarium Zakładu Uczenia Maszynowego nr 2 - TBA; seminarium katedralne, wstęp wyłącznie dla studentów, którzy piszą pracę licencjacką/magisterską pod kierunkiem pracownika Katedry Uczenia Maszynowego.\n",
    "3. Seminarium Metody AI - śr. 10-12, sala 1146; dla wszystkich studentów.\n",
    "4. Seminarium \"Reinforcement Learning\" - pt. 10-12, sala 1146; seminarium głównie dla doktorantów, wstęp wolny dla zainteresowanych studentów.\n",
    "5. Machine Learning Study Group - śr. 18-20, sala 1162 (siedziba Naukowego Koła Robotyki); wspólne czytanie najnowszych paperów, wstęp wolny dla wszystkich (w tym sporo osób spoza UJ), bardzo polecam.\n",
    "6. Seminarium z AI safety - pn. 14:00-15:30, sala TBA; wspólne czytanie paperów (zaczynając od MIRI), wstęp wolny dla wszystkich.\n"
   ]
  },
  {
   "cell_type": "markdown",
   "metadata": {},
   "source": [
    "# Tutoriale\n",
    "1. Ćwiczenia z numpy: https://github.com/Kyubyong/numpy_exercises (poleca Michał Soboszek).\n",
    "2. Bayes dla informatyków: http://camdavidsonpilon.github.io/Probabilistic-Programming-and-Bayesian-Methods-for-Hackers/ (szczególnie chapter 1 jako uzupełnienie drugich ćwiczeń).\n",
    "3. Kurs Deep Learningu z Oxfordu https://www.cs.ox.ac.uk/people/nando.defreitas/machinelearning/"
   ]
  },
  {
   "cell_type": "markdown",
   "metadata": {},
   "source": [
    "# Linki do dokumentacji\n",
    "1. scikit-learn: http://scikit-learn.org/stable/modules/classes.html"
   ]
  }
 ],
 "metadata": {
  "kernelspec": {
   "display_name": "Python 2",
   "language": "python",
   "name": "python2"
  },
  "language_info": {
   "codemirror_mode": {
    "name": "ipython",
    "version": 2
   },
   "file_extension": ".py",
   "mimetype": "text/x-python",
   "name": "python",
   "nbconvert_exporter": "python",
   "pygments_lexer": "ipython2",
   "version": "2.7.11"
  },
  "toc": {
   "toc_cell": false,
   "toc_number_sections": true,
   "toc_threshold": 6,
   "toc_window_display": false
  }
 },
 "nbformat": 4,
 "nbformat_minor": 2
}
