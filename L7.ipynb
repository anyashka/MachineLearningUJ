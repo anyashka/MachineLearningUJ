{
 "cells": [
  {
   "cell_type": "markdown",
   "metadata": {},
   "source": [
    "# L7: Klasyfikacja"
   ]
  },
  {
   "cell_type": "markdown",
   "metadata": {},
   "source": [
    "Na dzisiejszych ćwiczeniach skupimy się na: \n",
    "\n",
    "1. Ewaluacji klasyfikatorów i modeli probabilistycznych na przykładzie rozpoznawania raka piersi\n",
    "2. Różnicach pomiędzy Naive Bayes z regresja logistyczną\n",
    "3. Praktycznym problemie klasyfikacji SPAMu (od wczytania danych do klasyfikatora)"
   ]
  },
  {
   "cell_type": "code",
   "execution_count": 1,
   "metadata": {
    "collapsed": false
   },
   "outputs": [
    {
     "name": "stderr",
     "output_type": "stream",
     "text": [
      "/Users/anna-maria/anaconda/envs/py27/lib/python2.7/site-packages/sklearn/cross_validation.py:44: DeprecationWarning: This module was deprecated in version 0.18 in favor of the model_selection module into which all the refactored classes and functions are moved. Also note that the interface of the new CV iterators are different from that of this module. This module will be removed in 0.20.\n",
      "  \"This module will be removed in 0.20.\", DeprecationWarning)\n",
      "/Users/anna-maria/anaconda/envs/py27/lib/python2.7/site-packages/sklearn/grid_search.py:43: DeprecationWarning: This module was deprecated in version 0.18 in favor of the model_selection module into which all the refactored classes and functions are moved. This module will be removed in 0.20.\n",
      "  DeprecationWarning)\n",
      "/Users/anna-maria/anaconda/envs/py27/lib/python2.7/site-packages/sklearn/learning_curve.py:23: DeprecationWarning: This module was deprecated in version 0.18 in favor of the model_selection module into which all the functions are moved. This module will be removed in 0.20\n",
      "  DeprecationWarning)\n",
      "/Users/anna-maria/anaconda/envs/py27/lib/python2.7/site-packages/IPython/html.py:14: ShimWarning: The `IPython.html` package has been deprecated since IPython 4.0. You should import from `notebook` instead. `IPython.html.widgets` has moved to `ipywidgets`.\n",
      "  \"`IPython.html.widgets` has moved to `ipywidgets`.\", ShimWarning)\n"
     ]
    }
   ],
   "source": [
    "%matplotlib inline\n",
    "import matplotlib.pyplot as plt\n",
    "import csv\n",
    "import pandas\n",
    "import sklearn\n",
    "import pandas as pd\n",
    "import cPickle\n",
    "import numpy as np\n",
    "from sklearn.feature_extraction.text import CountVectorizer, TfidfTransformer\n",
    "from sklearn.naive_bayes import MultinomialNB\n",
    "from sklearn.svm import SVC, LinearSVC\n",
    "from sklearn.metrics import classification_report, f1_score, accuracy_score, confusion_matrix\n",
    "from sklearn.pipeline import Pipeline\n",
    "from sklearn.grid_search import GridSearchCV\n",
    "from sklearn.cross_validation import StratifiedKFold, cross_val_score, train_test_split \n",
    "from sklearn.tree import DecisionTreeClassifier \n",
    "from sklearn.learning_curve import learning_curve\n",
    "import matplotlib.pylab as plt\n",
    "import numpy as np\n",
    "import pandas as pd\n",
    "import matplotlib.pyplot as plt\n",
    "%matplotlib inline\n",
    "from sklearn.pipeline import Pipeline\n",
    "from sklearn.svm import SVC\n",
    "from sklearn.preprocessing import StandardScaler\n",
    "from sklearn.cross_validation import train_test_split\n",
    "from sklearn.decomposition import PCA\n",
    "from sklearn.cross_validation import cross_val_score\n",
    "from sklearn.grid_search import GridSearchCV\n",
    "import seaborn as sns\n",
    "from sklearn.metrics import precision_score, recall_score\n",
    "from sklearn.linear_model import LogisticRegression \n",
    "from sklearn import metrics\n",
    "from sklearn.naive_bayes import GaussianNB"
   ]
  },
  {
   "cell_type": "markdown",
   "metadata": {},
   "source": [
    "# Metryki (klasyfikator binarny)\n",
    "\n",
    "Przypomnijmy, że zadaniem uczenia maszynowego jest znalezienie modelu, który minimalizuje loss na zbiorze testowym (notebooki L5 oraz L6). Tutaj zajmujemy się definicjami metryk, z których każda także może być funkcją kosztu.\n",
    "\n",
    "<img width=300 src=\"wyklady2017/mum_figures/precision_recall.png\">\n",
    "\n",
    "Niech $y$ to prawdziwa klasa, a $\\hat{y}$ to predykcja. Najpopularniejsze metryki dla klasyfikatorów binarnych:\n",
    "\n",
    "* Accuracy\n",
    "\n",
    "$$ \\frac{TP + TN}{TN + FN + TP + FP} = p(\\hat{y} = y | x) $$\n",
    "\n",
    "* Precision \n",
    "\n",
    "$$ \\frac{TP}{TP + FP} = p(y=1| \\hat{y}=1) $$\n",
    "\n",
    "* Recall \n",
    "\n",
    "$$ \\frac{TP}{TP + FN} = p(\\hat{y}=1| y=1) $$\n",
    "\n",
    "## Imbalans klas\n",
    "\n",
    "Ref: https://svds.com/learning-imbalanced-classes/\n",
    "\n",
    "Chcemy zdefiniować metryki *zbalansowane*. Przez zbalansowaną metrykę rozumiemy metrykę jak najmniej wrażliwą na \"prior\" klas. [Wytłumaczyć czemu accuracy jest mylące]\n",
    "\n",
    "## Bardziej zaawansowane metryki\n",
    "\n",
    "Kolejne metryki (dla klasyfikatorów binarnych) będą oparte o confusion matrix:\n",
    "\n",
    "<img src=\"figures/L7/confusion_matrix.png\">\n",
    "\n",
    "### Balanced accuracy\n",
    "\n",
    "$$ \\frac{\\mbox{precision} + \\mbox{recall}}{2} $$\n",
    "\n",
    "Idea: Zbalansowana metryka, średnia precision i recall.\n",
    "\n",
    "Problemy:\n",
    "1. nie używa w ogóle TN. \n",
    "2. zwraca wysoki wynik dla danych typu duża przewaga pozytywnych klas i model zwracający zawsze pozytywną klasę (recall i precision wysokie)\n",
    "\n",
    "### F1\n",
    "\n",
    "$$ \\frac{\\mbox{precision} * \\mbox{recall}}{\\mbox{precision} + \\mbox{recall}} $$\n",
    "\n",
    "Idea: Zbalansowana metryka, średnia *harmoniczna* precision i recall.\n",
    "\n",
    "Problemy:\n",
    "1. nie używa w ogóle TN. \n",
    "2. zwraca wysoki wynik dla danych typu duża przewaga pozytywnych klas i model zwracający zawsze pozytywną klasę (recall i precision wysokie)\n",
    "\n",
    "### Matthews correlation coefficient\n",
    "\n",
    "$$ \\frac{TP*TN  - FP*FN}{\\sqrt{(TP + FP) * (TP + FN) * (TN + FP) * (TN + FN)}} $$\n",
    "\n",
    "Idea: Zbalansowana metryka, która używa całej macierzy confusion.\n",
    "\n",
    "Plus: bardziej \"odporna\" na \"głupie\" klasyfikatory.\n",
    "\n",
    "## Funkcja kosztu\n",
    "\n",
    "Na podstawie confusion matrix możemy definiować funkcję kosztu. Ile płacimy za FN? W przypadku klasyfikacji raka, dużo \"tańsze\" jest skierowanie pacjenta na dodatkowe badania niż postawienie fałszywej negatywnej diagnozy!\n",
    "\n",
    "<img width=400 src=\"figures/L7/cost_mat.png\">\n",
    "\n",
    "Oczywiście zazwyczaj $C_{TP}$ oraz $C_{TN}$ jest 0. Funkcja kosztu 0-1 (albo accuracy) odtwarza $C_{FN} = C_{FP}$."
   ]
  },
  {
   "cell_type": "markdown",
   "metadata": {},
   "source": [
    "# Klasyfikacja wrażliwa na koszt\n",
    "\n",
    "Ref: http://web.cs.iastate.edu/~honavar/elkan.pdf\n",
    "\n",
    "Czasami jesteśmy bardziej zainteresowani w precision lub recall. Są to problemy ``cost-sensitive``."
   ]
  },
  {
   "cell_type": "code",
   "execution_count": 2,
   "metadata": {
    "collapsed": false
   },
   "outputs": [
    {
     "data": {
      "text/html": [
       "<div>\n",
       "<table border=\"1\" class=\"dataframe\">\n",
       "  <thead>\n",
       "    <tr style=\"text-align: right;\">\n",
       "      <th></th>\n",
       "      <th>id</th>\n",
       "      <th>diagnosis</th>\n",
       "      <th>radius_mean</th>\n",
       "      <th>texture_mean</th>\n",
       "      <th>perimeter_mean</th>\n",
       "      <th>area_mean</th>\n",
       "      <th>smoothness_mean</th>\n",
       "      <th>compactness_mean</th>\n",
       "      <th>concavity_mean</th>\n",
       "      <th>concave points_mean</th>\n",
       "      <th>...</th>\n",
       "      <th>radius_worst</th>\n",
       "      <th>texture_worst</th>\n",
       "      <th>perimeter_worst</th>\n",
       "      <th>area_worst</th>\n",
       "      <th>smoothness_worst</th>\n",
       "      <th>compactness_worst</th>\n",
       "      <th>concavity_worst</th>\n",
       "      <th>concave points_worst</th>\n",
       "      <th>symmetry_worst</th>\n",
       "      <th>fractal_dimension_worst</th>\n",
       "    </tr>\n",
       "  </thead>\n",
       "  <tbody>\n",
       "    <tr>\n",
       "      <th>count</th>\n",
       "      <td>5.690000e+02</td>\n",
       "      <td>569.000000</td>\n",
       "      <td>569.000000</td>\n",
       "      <td>569.000000</td>\n",
       "      <td>569.000000</td>\n",
       "      <td>569.000000</td>\n",
       "      <td>569.000000</td>\n",
       "      <td>569.000000</td>\n",
       "      <td>569.000000</td>\n",
       "      <td>569.000000</td>\n",
       "      <td>...</td>\n",
       "      <td>569.000000</td>\n",
       "      <td>569.000000</td>\n",
       "      <td>569.000000</td>\n",
       "      <td>569.000000</td>\n",
       "      <td>569.000000</td>\n",
       "      <td>569.000000</td>\n",
       "      <td>569.000000</td>\n",
       "      <td>569.000000</td>\n",
       "      <td>569.000000</td>\n",
       "      <td>569.000000</td>\n",
       "    </tr>\n",
       "    <tr>\n",
       "      <th>mean</th>\n",
       "      <td>3.037183e+07</td>\n",
       "      <td>0.372583</td>\n",
       "      <td>14.127292</td>\n",
       "      <td>19.289649</td>\n",
       "      <td>91.969033</td>\n",
       "      <td>654.889104</td>\n",
       "      <td>0.096360</td>\n",
       "      <td>0.104341</td>\n",
       "      <td>0.088799</td>\n",
       "      <td>0.048919</td>\n",
       "      <td>...</td>\n",
       "      <td>16.269190</td>\n",
       "      <td>25.677223</td>\n",
       "      <td>107.261213</td>\n",
       "      <td>880.583128</td>\n",
       "      <td>0.132369</td>\n",
       "      <td>0.254265</td>\n",
       "      <td>0.272188</td>\n",
       "      <td>0.114606</td>\n",
       "      <td>0.290076</td>\n",
       "      <td>0.083946</td>\n",
       "    </tr>\n",
       "    <tr>\n",
       "      <th>std</th>\n",
       "      <td>1.250206e+08</td>\n",
       "      <td>0.483918</td>\n",
       "      <td>3.524049</td>\n",
       "      <td>4.301036</td>\n",
       "      <td>24.298981</td>\n",
       "      <td>351.914129</td>\n",
       "      <td>0.014064</td>\n",
       "      <td>0.052813</td>\n",
       "      <td>0.079720</td>\n",
       "      <td>0.038803</td>\n",
       "      <td>...</td>\n",
       "      <td>4.833242</td>\n",
       "      <td>6.146258</td>\n",
       "      <td>33.602542</td>\n",
       "      <td>569.356993</td>\n",
       "      <td>0.022832</td>\n",
       "      <td>0.157336</td>\n",
       "      <td>0.208624</td>\n",
       "      <td>0.065732</td>\n",
       "      <td>0.061867</td>\n",
       "      <td>0.018061</td>\n",
       "    </tr>\n",
       "    <tr>\n",
       "      <th>min</th>\n",
       "      <td>8.670000e+03</td>\n",
       "      <td>0.000000</td>\n",
       "      <td>6.981000</td>\n",
       "      <td>9.710000</td>\n",
       "      <td>43.790000</td>\n",
       "      <td>143.500000</td>\n",
       "      <td>0.052630</td>\n",
       "      <td>0.019380</td>\n",
       "      <td>0.000000</td>\n",
       "      <td>0.000000</td>\n",
       "      <td>...</td>\n",
       "      <td>7.930000</td>\n",
       "      <td>12.020000</td>\n",
       "      <td>50.410000</td>\n",
       "      <td>185.200000</td>\n",
       "      <td>0.071170</td>\n",
       "      <td>0.027290</td>\n",
       "      <td>0.000000</td>\n",
       "      <td>0.000000</td>\n",
       "      <td>0.156500</td>\n",
       "      <td>0.055040</td>\n",
       "    </tr>\n",
       "    <tr>\n",
       "      <th>25%</th>\n",
       "      <td>8.692180e+05</td>\n",
       "      <td>0.000000</td>\n",
       "      <td>11.700000</td>\n",
       "      <td>16.170000</td>\n",
       "      <td>75.170000</td>\n",
       "      <td>420.300000</td>\n",
       "      <td>0.086370</td>\n",
       "      <td>0.064920</td>\n",
       "      <td>0.029560</td>\n",
       "      <td>0.020310</td>\n",
       "      <td>...</td>\n",
       "      <td>13.010000</td>\n",
       "      <td>21.080000</td>\n",
       "      <td>84.110000</td>\n",
       "      <td>515.300000</td>\n",
       "      <td>0.116600</td>\n",
       "      <td>0.147200</td>\n",
       "      <td>0.114500</td>\n",
       "      <td>0.064930</td>\n",
       "      <td>0.250400</td>\n",
       "      <td>0.071460</td>\n",
       "    </tr>\n",
       "    <tr>\n",
       "      <th>50%</th>\n",
       "      <td>9.060240e+05</td>\n",
       "      <td>0.000000</td>\n",
       "      <td>13.370000</td>\n",
       "      <td>18.840000</td>\n",
       "      <td>86.240000</td>\n",
       "      <td>551.100000</td>\n",
       "      <td>0.095870</td>\n",
       "      <td>0.092630</td>\n",
       "      <td>0.061540</td>\n",
       "      <td>0.033500</td>\n",
       "      <td>...</td>\n",
       "      <td>14.970000</td>\n",
       "      <td>25.410000</td>\n",
       "      <td>97.660000</td>\n",
       "      <td>686.500000</td>\n",
       "      <td>0.131300</td>\n",
       "      <td>0.211900</td>\n",
       "      <td>0.226700</td>\n",
       "      <td>0.099930</td>\n",
       "      <td>0.282200</td>\n",
       "      <td>0.080040</td>\n",
       "    </tr>\n",
       "    <tr>\n",
       "      <th>75%</th>\n",
       "      <td>8.813129e+06</td>\n",
       "      <td>1.000000</td>\n",
       "      <td>15.780000</td>\n",
       "      <td>21.800000</td>\n",
       "      <td>104.100000</td>\n",
       "      <td>782.700000</td>\n",
       "      <td>0.105300</td>\n",
       "      <td>0.130400</td>\n",
       "      <td>0.130700</td>\n",
       "      <td>0.074000</td>\n",
       "      <td>...</td>\n",
       "      <td>18.790000</td>\n",
       "      <td>29.720000</td>\n",
       "      <td>125.400000</td>\n",
       "      <td>1084.000000</td>\n",
       "      <td>0.146000</td>\n",
       "      <td>0.339100</td>\n",
       "      <td>0.382900</td>\n",
       "      <td>0.161400</td>\n",
       "      <td>0.317900</td>\n",
       "      <td>0.092080</td>\n",
       "    </tr>\n",
       "    <tr>\n",
       "      <th>max</th>\n",
       "      <td>9.113205e+08</td>\n",
       "      <td>1.000000</td>\n",
       "      <td>28.110000</td>\n",
       "      <td>39.280000</td>\n",
       "      <td>188.500000</td>\n",
       "      <td>2501.000000</td>\n",
       "      <td>0.163400</td>\n",
       "      <td>0.345400</td>\n",
       "      <td>0.426800</td>\n",
       "      <td>0.201200</td>\n",
       "      <td>...</td>\n",
       "      <td>36.040000</td>\n",
       "      <td>49.540000</td>\n",
       "      <td>251.200000</td>\n",
       "      <td>4254.000000</td>\n",
       "      <td>0.222600</td>\n",
       "      <td>1.058000</td>\n",
       "      <td>1.252000</td>\n",
       "      <td>0.291000</td>\n",
       "      <td>0.663800</td>\n",
       "      <td>0.207500</td>\n",
       "    </tr>\n",
       "  </tbody>\n",
       "</table>\n",
       "<p>8 rows × 32 columns</p>\n",
       "</div>"
      ],
      "text/plain": [
       "                 id   diagnosis  radius_mean  texture_mean  perimeter_mean  \\\n",
       "count  5.690000e+02  569.000000   569.000000    569.000000      569.000000   \n",
       "mean   3.037183e+07    0.372583    14.127292     19.289649       91.969033   \n",
       "std    1.250206e+08    0.483918     3.524049      4.301036       24.298981   \n",
       "min    8.670000e+03    0.000000     6.981000      9.710000       43.790000   \n",
       "25%    8.692180e+05    0.000000    11.700000     16.170000       75.170000   \n",
       "50%    9.060240e+05    0.000000    13.370000     18.840000       86.240000   \n",
       "75%    8.813129e+06    1.000000    15.780000     21.800000      104.100000   \n",
       "max    9.113205e+08    1.000000    28.110000     39.280000      188.500000   \n",
       "\n",
       "         area_mean  smoothness_mean  compactness_mean  concavity_mean  \\\n",
       "count   569.000000       569.000000        569.000000      569.000000   \n",
       "mean    654.889104         0.096360          0.104341        0.088799   \n",
       "std     351.914129         0.014064          0.052813        0.079720   \n",
       "min     143.500000         0.052630          0.019380        0.000000   \n",
       "25%     420.300000         0.086370          0.064920        0.029560   \n",
       "50%     551.100000         0.095870          0.092630        0.061540   \n",
       "75%     782.700000         0.105300          0.130400        0.130700   \n",
       "max    2501.000000         0.163400          0.345400        0.426800   \n",
       "\n",
       "       concave points_mean           ...             radius_worst  \\\n",
       "count           569.000000           ...               569.000000   \n",
       "mean              0.048919           ...                16.269190   \n",
       "std               0.038803           ...                 4.833242   \n",
       "min               0.000000           ...                 7.930000   \n",
       "25%               0.020310           ...                13.010000   \n",
       "50%               0.033500           ...                14.970000   \n",
       "75%               0.074000           ...                18.790000   \n",
       "max               0.201200           ...                36.040000   \n",
       "\n",
       "       texture_worst  perimeter_worst   area_worst  smoothness_worst  \\\n",
       "count     569.000000       569.000000   569.000000        569.000000   \n",
       "mean       25.677223       107.261213   880.583128          0.132369   \n",
       "std         6.146258        33.602542   569.356993          0.022832   \n",
       "min        12.020000        50.410000   185.200000          0.071170   \n",
       "25%        21.080000        84.110000   515.300000          0.116600   \n",
       "50%        25.410000        97.660000   686.500000          0.131300   \n",
       "75%        29.720000       125.400000  1084.000000          0.146000   \n",
       "max        49.540000       251.200000  4254.000000          0.222600   \n",
       "\n",
       "       compactness_worst  concavity_worst  concave points_worst  \\\n",
       "count         569.000000       569.000000            569.000000   \n",
       "mean            0.254265         0.272188              0.114606   \n",
       "std             0.157336         0.208624              0.065732   \n",
       "min             0.027290         0.000000              0.000000   \n",
       "25%             0.147200         0.114500              0.064930   \n",
       "50%             0.211900         0.226700              0.099930   \n",
       "75%             0.339100         0.382900              0.161400   \n",
       "max             1.058000         1.252000              0.291000   \n",
       "\n",
       "       symmetry_worst  fractal_dimension_worst  \n",
       "count      569.000000               569.000000  \n",
       "mean         0.290076                 0.083946  \n",
       "std          0.061867                 0.018061  \n",
       "min          0.156500                 0.055040  \n",
       "25%          0.250400                 0.071460  \n",
       "50%          0.282200                 0.080040  \n",
       "75%          0.317900                 0.092080  \n",
       "max          0.663800                 0.207500  \n",
       "\n",
       "[8 rows x 32 columns]"
      ]
     },
     "execution_count": 2,
     "metadata": {},
     "output_type": "execute_result"
    }
   ],
   "source": [
    "data = pd.read_csv(\"data/L7/breast_cancer_transformer.csv\")\n",
    "data.drop(\"Unnamed: 32\",axis=1,inplace=True)\n",
    "data['diagnosis']=data['diagnosis'].map({'M':1,'B':0})\n",
    "data.describe() "
   ]
  },
  {
   "cell_type": "code",
   "execution_count": 3,
   "metadata": {
    "collapsed": false
   },
   "outputs": [
    {
     "data": {
      "text/plain": [
       "<matplotlib.axes._subplots.AxesSubplot at 0x10b871e50>"
      ]
     },
     "execution_count": 3,
     "metadata": {},
     "output_type": "execute_result"
    },
    {
     "data": {
      "image/png": "[encoded data removed]",
      "text/plain": [
       "<matplotlib.figure.Figure at 0x10b871590>"
      ]
     },
     "metadata": {},
     "output_type": "display_data"
    }
   ],
   "source": [
    "data['diagnosis'].hist()"
   ]
  },
  {
   "cell_type": "code",
   "execution_count": 4,
   "metadata": {
    "collapsed": false
   },
   "outputs": [],
   "source": [
    "# Wybieramy cechy\n",
    "prediction_var = ['texture_mean','perimeter_mean','smoothness_mean','compactness_mean','symmetry_mean']\n",
    "train, test = train_test_split(data, test_size = 0.3)# in this our main data is splitted into train and test\n",
    "train_X = train[prediction_var][0:100]\n",
    "train_y=train.diagnosis[0:100]\n",
    "test_X= test[prediction_var] \n",
    "test_y =test.diagnosis  "
   ]
  },
  {
   "cell_type": "code",
   "execution_count": 5,
   "metadata": {
    "collapsed": false
   },
   "outputs": [
    {
     "name": "stdout",
     "output_type": "stream",
     "text": [
      "0.906432748538\n",
      "0.8\n",
      "0.965517241379\n",
      "0.20525493913\n"
     ]
    }
   ],
   "source": [
    "# Regresja logistyczna\n",
    "model = LogisticRegression(C=50)\n",
    "model.fit(train_X,train_y)\n",
    "pred = model.predict(test_X)\n",
    "print metrics.accuracy_score(pred, test_y)\n",
    "print metrics.precision_score(pred, test_y)\n",
    "print metrics.recall_score(pred, test_y)\n",
    "print metrics.log_loss(test_y, model.predict_proba(test_X)[:, 1])"
   ]
  },
  {
   "cell_type": "markdown",
   "metadata": {},
   "source": [
    "## Zadanie 1 [3 pkt]\n",
    "\n",
    "1. Powyższy model ma istotnie wyższy recall niż precision. \n",
    "\n",
    "Zdefiniujmy jako model probabilistyczny model, który zwraca p($\\hat{y}$ | y). Obiekt LogisticRegression zwraca tą wartość funkcją ``predict_proba``\n",
    "\n",
    "1. Każdy model probabilistyczny można użyć do stworzenia klasyfikora, która może mieć precision 100% lub recall 100% trywialnie, jak? \n",
    "\n",
    "2. Krzywa precision/recall jest obliczana licząc precision oraz recall modelu probabilistycznego dla różnych wartości precision. Zarysuj wykres precision/recall dla modelu powyżej.\n",
    "\n",
    "\n",
    "Powinno wyjść:\n",
    "\n",
    "<img src=\"figures/L7/prec_recall.png\">"
   ]
  },
  {
   "cell_type": "markdown",
   "metadata": {},
   "source": [
    "1. recall 100% - powiedzieć wszystkim, że są posytywne (np. chore)\n",
    "   precision 100%  - powiedzieć tym, kto z prawdopodobieństwiem 100 % jest posytywny (np. chory)"
   ]
  },
  {
   "cell_type": "code",
   "execution_count": 6,
   "metadata": {
    "collapsed": false
   },
   "outputs": [
    {
     "data": {
      "image/png": "[encoded data removed]",
      "text/plain": [
       "<matplotlib.figure.Figure at 0x11530f7d0>"
      ]
     },
     "metadata": {},
     "output_type": "display_data"
    }
   ],
   "source": [
    "from sklearn.metrics import precision_recall_curve\n",
    "\n",
    "pred_probability = model.predict_proba(test_X)[:, 1]\n",
    "precision, recall, _ = precision_recall_curve(test_y, pred_probability)\n",
    "\n",
    "plt.plot(recall, precision)\n",
    "plt.xlabel('Recall')\n",
    "plt.ylabel('Precision')\n",
    "plt.show()\n",
    " "
   ]
  },
  {
   "cell_type": "markdown",
   "metadata": {},
   "source": [
    "## Zadanie 2 [3 pkt]\n",
    "\n",
    "Założmy, że $C_{FP}$ = 1 i $C_{FN}$ = 10, co odpowiada sytuacji w której nie przejmujemy się postawieniem fałszywej pozytywnej diagnozy.\n",
    "\n",
    "Według http://web.cs.iastate.edu/~honavar/elkan.pdf wystarczy w takim wypadku dodać przykładom odpowiednią wage.\n",
    "\n",
    "a) Przetestuj pare wag klasy negatywnej przez podanie argumentu class_weight do LogisticRegression. Dla każdej wartości wagi narysuj dokładność (accuracy) oraz wynik metryki FN_aversive. Powinno wyjść:\n",
    "\n",
    "<img src=\"figures/L7/fn_aversive.png\">\n",
    "\n",
    "b) Równoważnym sposobem tworzenia \"cost-sensitive\" klasyfikatora z modelu probabilistycznego jest zmiana progu (patrz Zadanie 1). Znajdź taki próg, aby wynik klasyfikatora z tym progiem był równoważny argumentowi class_weight, który daje w punkcie a) najlepszy wynik.\n",
    "\n",
    "Podpowiedź: Jeśli 2 sprawia problem, przejrzyj załączoną publikację"
   ]
  },
  {
   "cell_type": "code",
   "execution_count": 18,
   "metadata": {
    "collapsed": false
   },
   "outputs": [
    {
     "data": {
      "image/png": "[encoded data removed]",
      "text/plain": [
       "<matplotlib.figure.Figure at 0x118b002d0>"
      ]
     },
     "metadata": {},
     "output_type": "display_data"
    }
   ],
   "source": [
    "def FN_aversive(y_true, y_pred):\n",
    "    FN = sum((y_true == 1) * (y_pred != y_true))\n",
    "    FP = sum((y_true == 0) * (y_pred != y_true))\n",
    "    return 10 * FN + FP\n",
    "\n",
    "accuracy = []\n",
    "fn_aver = []\n",
    "weights = [0.5, 1, 5, 10, 100]\n",
    "\n",
    "for w in weights:\n",
    "    model = LogisticRegression(C = 50, class_weight = {1: w})\n",
    "    model.fit(train_X,train_y)\n",
    "    pred = model.predict(test_X)\n",
    "    accuracy.append(metrics.accuracy_score(pred, test_y)*100)\n",
    "    fn_aver.append(FN_aversive(test_y, pred))\n",
    "\n",
    "plt.plot(weights, fn_aver, label=\"FN_aversive\")\n",
    "plt.plot(weights, accuracy, label=\"accuracy(%)\")\n",
    "plt.legend()\n",
    "plt.show()\n",
    "\n",
    "best_weight = weights[np.argmax(accuracy)]\n"
   ]
  },
  {
   "cell_type": "markdown",
   "metadata": {},
   "source": [
    "# Metryki c.d. (model probabilistyczny)\n",
    "\n",
    "Metryki wcześniej wprowadzone zakładają na wejściu klasyfikator, albo model probabilistyczny z dobranym na twardo thresholdem. Trochę bardziej skomplikowanym modelem może być model probabilistyczny, który zwraca jedynie prawdopodobieństwo\n",
    "\n",
    "## Entropia krzyżowa/log loss (dla klasyfikacji binarnej)\n",
    "\n",
    "Entropia krzyżowa, inaczej log loss jest niczym innym jak dobrze nam znanym log likelihood modelu zastosowanym do modeli probabilistycznych (zwracających prawdopodobieństwo):\n",
    "\n",
    "$$ LL(\\hat y, y) = CE(\\hat y, y) = \\sum_{i=1}^{N} y \\log\\hat(y) $$.\n",
    "\n",
    "Entropia krzyżowa może być też bezpośrednio optymalizowana, w odróżnieniu od metryk typu accuracy, precision czy recall.\n",
    "\n",
    "Warto wspomnieć, że niektóre modele mają dobre accuracy, ale słaby log loss (np. Naive Bayes).\n",
    "\n",
    "## ROC\n",
    "\n",
    "Krzywa ROC tworzona jest podobnie jak krzywa precision recall, tylko tym razem dla każdego progu liczymy true positive rate (p oraz false positive rate.\n",
    "\n",
    "<img src=\"figures/L7/roc_curve.png\">\n",
    "\n",
    "Czasami chcemy opisać krzywą ROC jedną liczbą, z oczywistych względów musimy coś \"oszukać\" (tj. stracić jakąś informację). Popularny sposób to pole powierzni pod krzywą ROC"
   ]
  },
  {
   "cell_type": "markdown",
   "metadata": {},
   "source": [
    "# Naive Bayes vs Regresja Logistyczna \n",
    "\n",
    "Ref: https://ai.stanford.edu/~ang/papers/nips01-discriminativegenerative.pdf"
   ]
  },
  {
   "cell_type": "markdown",
   "metadata": {},
   "source": [
    "## Wyprowadzenie\n",
    "\n",
    "[Wyprowadzić na zajęciach]\n",
    "\n",
    "**Wyprowadzenie zaczynamy od zdefiniowania procesu generowania danych**\n",
    "\n",
    "### Naive Bayes\n",
    "\n",
    "Zakładamy niezależność cech\n",
    "\n",
    "$$ p(X | Y) = \\prod_i P(X_i | Y) $$\n",
    "\n",
    "### Regresja logistyczna (binarna)\n",
    "\n",
    "Zdefiniujmy ``odds`` jako\n",
    "\n",
    "$$ o = \\frac{p(Y=1 | x)}{p(Y=0| x)} $$\n",
    "\n",
    "Wtedy regresja logistyczna definiuje:\n",
    "\n",
    "$$ \\log(o) = \\sum \\theta_i x_i $$\n",
    "\n",
    "**Teraz liczymy likelihood**\n",
    "\n",
    "### Naive Bayes\n",
    "\n",
    "Naive Bayes to model generatywny (co jak dowiemy się niedługo ma wady). Użyjmy reguły Bayesa aby policzyć likelihood:\n",
    "\n",
    "$$ p(Y | X) = P(X | Y) P(Y)  = ( \\prod_i P(X_i | Y)) P(Y) $$\n",
    "\n",
    "### Regresja logistyczna\n",
    "\n",
    "Przekształcając $$ \\log(o) = \\sum \\theta_i x_i $$ otrzymujemy *bezpośrednio*, że $$ p(y | x) = \\mbox{sigmoid}(\\sum \\theta_i x_i) $$, gdzie $sigmoid(a) = \\frac{1}{1 + \\exp(-a)}$."
   ]
  },
  {
   "cell_type": "markdown",
   "metadata": {},
   "source": [
    "## Różnice pomiędzy Naive Bayes a regresją logistyczną\n",
    "\n",
    "### Niezależność cech\n",
    "\n",
    "Naive Bayes zakłada niezależność cech (brak korekty liniowych zależności). Mówiąc inaczej możemy \"wrzucić\" do regresji logistycznej skorelowane cechy i się nic nie stanie. W przypadku modelu Naive Bayes nazywamy ten problem \"double counting\".\n",
    "\n",
    "\n",
    "### Model dyskryminatywny vs generatywny\n",
    "\n",
    "Przez model generatywny rozumiem model, który optymalizuje łączne prawdopodobieństwo p(x, y).\n",
    "\n",
    "**Obserwacja 1.** Modelowanie p(x | y) lub p(x) nie jest bezpośrednio niezbędne do modelowania p(y | x). \n",
    "\n",
    "Obserwacja 1. mówi nam, że model generatywny wykonuje \"dodatkową\" pracę. W związku z tym czemu modele generatywne są aktywnie wykorzystywane w praktyce? Jest to po prostu kolejny sposób regularyzacji! Modelując p(x | y) można (niezbyt ściśle) powiedzieć, że modelujemy sposób w jaki funkcjonuje świat. Zainteresowanych odsyłamy do https://ai.stanford.edu/~ang/papers/nips01-discriminativegenerative.pdf oraz [TODO]\n",
    "\n",
    "Naive Bayes to *model generatywny*, a *regresja logistyczna* to model dyskryminatywny. W związku z tym należy oczekiwać, że w granicy danych regresja logistyczna będzie osiągać lepsze wyniki, ale może być różnie w przypadku małej ilości danych\n",
    "\n",
    "<img src=\"figures/L7/ng_plot.png\">\n",
    "\n",
    "(Obrazek za https://ai.stanford.edu/~ang/papers/nips01-discriminativegenerative.pdf).\n",
    "\n",
    "### Log loss\n",
    "\n",
    "Naive Bayes daje zbyt optymistyczne prawdopodobieństwa. Jest dobry w accuracy, ale zły w log lossie."
   ]
  },
  {
   "cell_type": "code",
   "execution_count": 21,
   "metadata": {
    "collapsed": false
   },
   "outputs": [
    {
     "name": "stdout",
     "output_type": "stream",
     "text": [
      "0.877192982456\n",
      "0.790322580645\n",
      "0.859649122807\n",
      "0.503309734308\n"
     ]
    }
   ],
   "source": [
    "# Przykład słabego log lossu modelu Naive Bayes\n",
    "model = GaussianNB()\n",
    "model.fit(train_X,train_y)\n",
    "pred = model.predict(test_X)\n",
    "print metrics.accuracy_score(test_y, pred,)\n",
    "print metrics.precision_score(test_y, pred)\n",
    "print metrics.recall_score(test_y, pred)\n",
    "# Regresja logistyczna osiąga 0.26\n",
    "print metrics.log_loss(test_y, model.predict_proba(test_X)[:, 1])"
   ]
  },
  {
   "cell_type": "markdown",
   "metadata": {},
   "source": [
    "## Zadanie 3 [3 pkt]\n",
    "\n",
    "Naive Bayes jest często stosowany do problemów klasyfikacyjnych na tekście. W tym zadaniu zajmiemy się klasyfikacją SPAMU. Na wejściu zadany jest test wiadomości e-mail, etykietą jest 0 (prawdziwa wiadomość, \"HAM\") lub 1 (SPAM). \n",
    "\n",
    "Podstawowym problemem jest sposób reprezentacji tekstu. Podobnie jak w przypadku rozważanych funkcji bazowych na wcześniejszych zajęciach, modele wymagają stałowymiarowego wektoru. Proszę użyć klasy CountVectorizer z sklearn w celu przekształcenia wiadomości do reprezentacji wektorowej.\n",
    "\n",
    "1. Zastosuj transformację tekstu do reprezentacji bag of words\n",
    "2. Naucz model Naive Bayes (MultinomialNB) przewidywać SPAM\n",
    "3. Pokaż problem \"double counting\" w modelu Naive Bayes. "
   ]
  },
  {
   "cell_type": "markdown",
   "metadata": {},
   "source": [
    "### Załadowanie danych"
   ]
  },
  {
   "cell_type": "code",
   "execution_count": 22,
   "metadata": {
    "collapsed": true
   },
   "outputs": [],
   "source": [
    "messages = pd.read_csv('data/L7/SMSSpamCollection/SMSSpamCollection', sep='\\t', quoting=csv.QUOTE_NONE,\n",
    "                           names=[\"label\", \"message\"])"
   ]
  },
  {
   "cell_type": "markdown",
   "metadata": {},
   "source": [
    "### Eksploracja danych"
   ]
  },
  {
   "cell_type": "code",
   "execution_count": 23,
   "metadata": {
    "collapsed": false
   },
   "outputs": [
    {
     "data": {
      "text/html": [
       "<div>\n",
       "<table border=\"1\" class=\"dataframe\">\n",
       "  <thead>\n",
       "    <tr style=\"text-align: right;\">\n",
       "      <th></th>\n",
       "      <th></th>\n",
       "      <th>message</th>\n",
       "    </tr>\n",
       "    <tr>\n",
       "      <th>label</th>\n",
       "      <th></th>\n",
       "      <th></th>\n",
       "    </tr>\n",
       "  </thead>\n",
       "  <tbody>\n",
       "    <tr>\n",
       "      <th rowspan=\"4\" valign=\"top\">ham</th>\n",
       "      <th>count</th>\n",
       "      <td>4827</td>\n",
       "    </tr>\n",
       "    <tr>\n",
       "      <th>unique</th>\n",
       "      <td>4518</td>\n",
       "    </tr>\n",
       "    <tr>\n",
       "      <th>top</th>\n",
       "      <td>Sorry, I'll call later</td>\n",
       "    </tr>\n",
       "    <tr>\n",
       "      <th>freq</th>\n",
       "      <td>30</td>\n",
       "    </tr>\n",
       "    <tr>\n",
       "      <th rowspan=\"4\" valign=\"top\">spam</th>\n",
       "      <th>count</th>\n",
       "      <td>747</td>\n",
       "    </tr>\n",
       "    <tr>\n",
       "      <th>unique</th>\n",
       "      <td>653</td>\n",
       "    </tr>\n",
       "    <tr>\n",
       "      <th>top</th>\n",
       "      <td>Please call our customer service representativ...</td>\n",
       "    </tr>\n",
       "    <tr>\n",
       "      <th>freq</th>\n",
       "      <td>4</td>\n",
       "    </tr>\n",
       "  </tbody>\n",
       "</table>\n",
       "</div>"
      ],
      "text/plain": [
       "                                                        message\n",
       "label                                                          \n",
       "ham   count                                                4827\n",
       "      unique                                               4518\n",
       "      top                                Sorry, I'll call later\n",
       "      freq                                                   30\n",
       "spam  count                                                 747\n",
       "      unique                                                653\n",
       "      top     Please call our customer service representativ...\n",
       "      freq                                                    4"
      ]
     },
     "execution_count": 23,
     "metadata": {},
     "output_type": "execute_result"
    }
   ],
   "source": [
    "messages.groupby('label').describe()"
   ]
  },
  {
   "cell_type": "code",
   "execution_count": 24,
   "metadata": {
    "collapsed": false
   },
   "outputs": [
    {
     "name": "stdout",
     "output_type": "stream",
     "text": [
      "  label                                            message  length\n",
      "0   ham  Go until jurong point, crazy.. Available only ...     111\n",
      "1   ham                      Ok lar... Joking wif u oni...      29\n",
      "2  spam  Free entry in 2 a wkly comp to win FA Cup fina...     155\n",
      "3   ham  U dun say so early hor... U c already then say...      49\n",
      "4   ham  Nah I don't think he goes to usf, he lives aro...      61\n"
     ]
    }
   ],
   "source": [
    "messages['length'] = messages['message'].map(lambda text: len(text))\n",
    "print messages.head()"
   ]
  },
  {
   "cell_type": "code",
   "execution_count": 25,
   "metadata": {
    "collapsed": false
   },
   "outputs": [
    {
     "data": {
      "text/plain": [
       "<matplotlib.axes._subplots.AxesSubplot at 0x11be95210>"
      ]
     },
     "execution_count": 25,
     "metadata": {},
     "output_type": "execute_result"
    },
    {
     "data": {
      "image/png": "[encoded data removed]",
      "text/plain": [
       "<matplotlib.figure.Figure at 0x118341ad0>"
      ]
     },
     "metadata": {},
     "output_type": "display_data"
    }
   ],
   "source": [
    "messages.length.plot(bins=20, kind='hist')"
   ]
  },
  {
   "cell_type": "code",
   "execution_count": 26,
   "metadata": {
    "collapsed": false
   },
   "outputs": [
    {
     "data": {
      "text/plain": [
       "array([<matplotlib.axes._subplots.AxesSubplot object at 0x11c912cd0>,\n",
       "       <matplotlib.axes._subplots.AxesSubplot object at 0x11ba2b6d0>], dtype=object)"
      ]
     },
     "execution_count": 26,
     "metadata": {},
     "output_type": "execute_result"
    },
    {
     "data": {
      "image/png": "[encoded data removed]",
      "text/plain": [
       "<matplotlib.figure.Figure at 0x11bd99890>"
      ]
     },
     "metadata": {},
     "output_type": "display_data"
    }
   ],
   "source": [
    "messages.hist(column='length', by='label', bins=50)"
   ]
  },
  {
   "cell_type": "markdown",
   "metadata": {},
   "source": [
    "## Przetworzenie danych"
   ]
  },
  {
   "cell_type": "code",
   "execution_count": 28,
   "metadata": {
    "collapsed": false
   },
   "outputs": [
    {
     "name": "stdout",
     "output_type": "stream",
     "text": [
      "sparse matrix shape: (5574, 8713)\n",
      "number of non-zeros: 74169\n",
      "sparsity: 0.15%\n"
     ]
    }
   ],
   "source": [
    "count_vectorizer = CountVectorizer(analyzer='word')\n",
    "messages_bow = count_vectorizer.fit_transform(messages['message'])\n",
    "print 'sparse matrix shape:', messages_bow.shape\n",
    "print 'number of non-zeros:', messages_bow.nnz\n",
    "print 'sparsity: %.2f%%' % (100.0 * messages_bow.nnz / (messages_bow.shape[0] * messages_bow.shape[1]))"
   ]
  },
  {
   "cell_type": "code",
   "execution_count": 33,
   "metadata": {
    "collapsed": false
   },
   "outputs": [
    {
     "data": {
      "text/plain": [
       "MultinomialNB(alpha=1.0, class_prior=None, fit_prior=True)"
      ]
     },
     "execution_count": 33,
     "metadata": {},
     "output_type": "execute_result"
    }
   ],
   "source": [
    "X = messages_bow\n",
    "y = [1 if m == \"ham\" else 0 for m in messages['label']]\n",
    "X_train, X_test, y_train, y_test = train_test_split(X, y, test_size=0.3, random_state=0)\n",
    "\n",
    "spam_detector = MultinomialNB()\n",
    "spam_detector.fit(X_train, y_train)"
   ]
  },
  {
   "cell_type": "code",
   "execution_count": 34,
   "metadata": {
    "collapsed": false
   },
   "outputs": [
    {
     "name": "stdout",
     "output_type": "stream",
     "text": [
      "accuracy 0.98027495517\n",
      "confusion matrix\n",
      "[[ 228   14]\n",
      " [  19 1412]]\n"
     ]
    }
   ],
   "source": [
    "y_pred = spam_detector.predict(X_test)\n",
    "print 'accuracy', metrics.accuracy_score(y_test, y_pred)\n",
    "print 'confusion matrix\\n', metrics.confusion_matrix(y_test, y_pred)"
   ]
  },
  {
   "cell_type": "code",
   "execution_count": null,
   "metadata": {
    "collapsed": true
   },
   "outputs": [],
   "source": []
  },
  {
   "cell_type": "code",
   "execution_count": null,
   "metadata": {
    "collapsed": true
   },
   "outputs": [],
   "source": []
  }
 ],
 "metadata": {
  "kernelspec": {
   "display_name": "Python 2",
   "language": "python",
   "name": "python2"
  },
  "language_info": {
   "codemirror_mode": {
    "name": "ipython",
    "version": 2
   },
   "file_extension": ".py",
   "mimetype": "text/x-python",
   "name": "python",
   "nbconvert_exporter": "python",
   "pygments_lexer": "ipython2",
   "version": "2.7.13"
  },
  "toc": {
   "toc_cell": false,
   "toc_number_sections": true,
   "toc_threshold": 6,
   "toc_window_display": false
  }
 },
 "nbformat": 4,
 "nbformat_minor": 0
}
