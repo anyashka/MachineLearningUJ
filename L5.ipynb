{
 "cells": [
  {
   "cell_type": "markdown",
   "metadata": {},
   "source": [
    "# L5\n",
    "\n",
    "Ref: C. Bishop \"Machine Learning\", Ch.1-3\n",
    "\n",
    "Na tych ćwiczeniach:\n",
    "    * Omówimy matematycznie podstawowy cel uczenia maszynowego\n",
    "    * Omówimy ewaluacje\n",
    "    * Omówimy bias-variance\n",
    "    * Zdefiniujemy co mamy na myśli mówiąc \"regularyzacja\"\n",
    "    * Omówimy związek tradycyjnej regularyzacji z wnioskowaniem Bayesowskim "
   ]
  },
  {
   "cell_type": "markdown",
   "metadata": {},
   "source": [
    "Omówiliśmy podejście Bayesowskie, aż do prawdziwego postawienia bayesowskiej regresji liniowej.\n",
    "\n",
    "Zapomnijmy na chwile o tym wszystkim.\n",
    "\n",
    "<img width=500 src=\"figures/L5/plane.jpg\">"
   ]
  },
  {
   "cell_type": "code",
   "execution_count": 10,
   "metadata": {
    "collapsed": true
   },
   "outputs": [],
   "source": [
    "# Przydatne funkcje\n",
    "\n",
    "def f(size):\n",
    "    '''\n",
    "    Returns a sample with 'size' instances without noise.\n",
    "    '''\n",
    "    x = np.linspace(0, 4.5, size)\n",
    "    y = 2 * np.sin(x * 1.5)\n",
    "    return (x,y)\n",
    "\n",
    "def sample(size):\n",
    "    '''\n",
    "    Returns a sample with 'size' instances.\n",
    "    '''\n",
    "    x = np.linspace(0, 4.5, size)\n",
    "    y = 2 * np.sin(x * 1.5) + pl.randn(x.size)\n",
    "    return (x,y)\n",
    "\n",
    "def fit_polynomial(x, y, degree):\n",
    "    '''\n",
    "    Fits a polynomial to the input sample.\n",
    "    (x,y): input sample\n",
    "    degree: polynomial degree\n",
    "    '''\n",
    "    \n",
    "    # To juz umiemy sami zaimplementować!\n",
    "    model = LinearRegression()\n",
    "    model.fit(np.vander(x, degree + 1), y)\n",
    "    return model\n",
    "\n",
    "def apply_polynomial(model, x):\n",
    "    '''\n",
    "    Evaluates a linear regression model in an input sample\n",
    "    model: linear regression model\n",
    "    x: input sample\n",
    "    '''\n",
    "    degree = model.coef_.size - 1\n",
    "    y = model.predict(np.vander(x, degree + 1))\n",
    "    return y"
   ]
  },
  {
   "cell_type": "markdown",
   "metadata": {},
   "source": [
    "# Koncept: dane to losowa próbka\n",
    "\n",
    "<img width=400 src=\"figures/L5/the-seventh-seal-chess-game.jpg\">"
   ]
  },
  {
   "cell_type": "code",
   "execution_count": 31,
   "metadata": {
    "collapsed": false
   },
   "outputs": [
    {
     "data": {
      "text/plain": [
       "[<matplotlib.lines.Line2D at 0x114783690>]"
      ]
     },
     "execution_count": 31,
     "metadata": {},
     "output_type": "execute_result"
    },
    {
     "data": {
      "image/png": "[encoded data removed]",
      "text/plain": [
       "<matplotlib.figure.Figure at 0x114783650>"
      ]
     },
     "metadata": {},
     "output_type": "display_data"
    }
   ],
   "source": [
    "# Dane w regresji\n",
    "x, y = sample(16)\n",
    "pl.plot(x, y, 'k.')\n",
    "pl.plot(f_x, f_y)"
   ]
  },
  {
   "cell_type": "code",
   "execution_count": 36,
   "metadata": {
    "collapsed": false
   },
   "outputs": [
    {
     "data": {
      "text/plain": [
       "[<matplotlib.lines.Line2D at 0x11552c250>]"
      ]
     },
     "execution_count": 36,
     "metadata": {},
     "output_type": "execute_result"
    },
    {
     "data": {
      "image/png": "[encoded data removed]",
      "text/plain": [
       "<matplotlib.figure.Figure at 0x1153b46d0>"
      ]
     },
     "metadata": {},
     "output_type": "display_data"
    }
   ],
   "source": [
    "# Inny zbior danych - moglismy tez taki otrzymac!\n",
    "prev_x, prev_y = x, y\n",
    "x, y = sample(16)\n",
    "pl.plot(prev_x, prev_y, 'k.', color='black')\n",
    "pl.plot(x, y, 'k.', color='r')\n",
    "pl.plot(f_x, f_y)"
   ]
  },
  {
   "cell_type": "markdown",
   "metadata": {},
   "source": [
    "# Ewaluacja \n",
    "\n",
    "To co nas obchodzi to błąd na nowych danych (z niebieskiej kreski).\n",
    "\n",
    "Zapiszmy matematycznie podstawowy cel uczenia maszynowego.\n",
    "\n",
    "$ \\mbox{Expected loss} = \\mathbb{E}[L] = \\int \\int L(\\textbf{y}, f(\\textbf{x})) p(\\textbf{x},  \\textbf{y}) dx dy $\n",
    "\n",
    "Chcemy mieć najmniejszy błąd na wszystkich przyszłych zbiorach danych. \n",
    "\n",
    "**Cel**: jak aproksymowac ``Expected loss`` ?"
   ]
  },
  {
   "cell_type": "code",
   "execution_count": 40,
   "metadata": {
    "collapsed": false
   },
   "outputs": [
    {
     "data": {
      "text/plain": [
       "[<matplotlib.lines.Line2D at 0x116318b50>]"
      ]
     },
     "execution_count": 40,
     "metadata": {},
     "output_type": "execute_result"
    },
    {
     "data": {
      "image/png": "[encoded data removed]",
      "text/plain": [
       "<matplotlib.figure.Figure at 0x115784750>"
      ]
     },
     "metadata": {},
     "output_type": "display_data"
    }
   ],
   "source": [
    "# Tu sie dopasowalismy\n",
    "X_train, y_train = sample(16)\n",
    "overfitted_model = fit_polynomial(X_train, y_train, 15)\n",
    "p_y = apply_polynomial(overfitted_model, X_train)\n",
    "pl.plot(f_x, f_y)\n",
    "pl.plot(X_train, y, 'k.')\n",
    "pl.plot(X_train, p_y)"
   ]
  },
  {
   "cell_type": "markdown",
   "metadata": {},
   "source": [
    "## Cwiczenie 1 [2pkt] \n",
    "\n",
    "(Do zrobienia przed przejściem dalej)\n",
    "\n",
    "Jaki \"Expected loss\" będzie miał model \"overfitted_model\"?\n",
    "\n",
    "Hint: mamy możliwość samplowania punktów z rozkładu $p(\\textbf{x},  \\textbf{y})$"
   ]
  },
  {
   "cell_type": "markdown",
   "metadata": {},
   "source": [
    "## Założenie i.i.d.\n",
    "\n",
    "Ale zwykle nie mamy dostępu do funkcji \"sample\". Załóżmy, że nasze dane trenujące (X_train, y_train) są i.i.d. z rozkładu łącznego (X, Y). Wtedy możemy znaleźć przybliżenie \"Expected loss\"!"
   ]
  },
  {
   "cell_type": "markdown",
   "metadata": {},
   "source": [
    "## Test set \n",
    "\n",
    "Skoro nasze dane są i.i.d., to znaczy że jeśli podzielimy je 2 losowe podzbiory (X_train, y_train) oraz (X_test, y_test) to (X_test, y_test) też będą i.i.d.\n",
    "\n",
    "Jeśli nie będziemy trenować na X_test, y_test to błąd na zbiorze testującym\n",
    "\n",
    "$$\\mbox{Empirical loss} = \\sum_{i=1}^{N} L(\\textbf{y_i}, f(\\textbf{x_i})) $$\n",
    "\n",
    "będzie **estymatorem** ``Expected loss`` (definicja estymatora później)"
   ]
  },
  {
   "cell_type": "markdown",
   "metadata": {},
   "source": [
    "## Cross validation\n",
    "\n",
    "Estymator ``Empirical loss`` ma dużą wariancję (no bo może akurat wylosowaliśmy prosty zbiór testujący). Aby zmniejszyć jego wariancję możemy losować pare podziałów i uśrednić.\n",
    "\n",
    "<img src=\"figures/L3/K-fold_cross_validation_EN.jpg\">"
   ]
  },
  {
   "cell_type": "markdown",
   "metadata": {},
   "source": [
    "# Bias variance\n",
    "\n",
    "W czasie dalszej rozmowy definiujemy: model to zbiór hipotez.\n",
    "\n",
    "(też pojawia się na rozmowach kwalifikacyjnych)\n",
    "\n",
    "``Expected loss`` można sprytnie rozbić dla błędu średnio-kwadratowego [wyprowadzić na tablicy, ref: Bishop p. 149]:\n",
    "\n",
    "$ \\mbox{Expected loss} = \\mathbb{E}_D[L] = \\mathbb{E}_D[(y - f(x, D))^2]  = (\\mathbb{E}_D(y) - f(x, D))^2 + \\mathbb{E}_D[(f(x, D) - \\mathbb{E}_D(f(x, D)))^2] = \\mbox{bias}^2 + \\mbox{variance}$\n",
    "\n",
    "Dla innych błędów także zachodzą odpowiednie dekompozycje bias-variance, ale są bardziej skomplikowane.\n",
    "\n",
    "Uwaga: nie rozważamy tutaj szumu dla uproszczenia.\n",
    "\n",
    "## Intuicja 1\n",
    "\n",
    "Samplujemy 2 punkty z funkcji f(x) = sin(x):\n",
    "\n",
    "<img width=450 src=\"figures/L5/b1.png\">\n",
    "<img width=450 src=\"figures/L5/b2.png\">\n",
    "<img width=450 src=\"figures/L5/b3.png\">\n",
    "\n",
    "## Intuicja 2\n",
    "\n",
    "Każda rzutka to ``expected loss`` modelu (modele uczone na różnych samplach). Środek to najlepszy model. Od teraz każdy model będziemy rozważać w tych 4 kategoriach.\n",
    "\n",
    "<img width=350 src=\"figures/L5/bias_variance.png\">"
   ]
  },
  {
   "cell_type": "markdown",
   "metadata": {},
   "source": [
    "## Poziom 1 wtajemniczenia\n",
    "\n",
    "1. Samplujemy punkty z rozkładu sinus + szum. \n",
    "2. Fitujemy regresje liniową jak na L4 \n",
    "3. Wracamy do 1 i rysujemy wynik dla paru iteracji"
   ]
  },
  {
   "cell_type": "code",
   "execution_count": 6,
   "metadata": {
    "collapsed": false
   },
   "outputs": [
    {
     "data": {
      "text/plain": [
       "[<matplotlib.lines.Line2D at 0x10acfdb50>]"
      ]
     },
     "execution_count": 6,
     "metadata": {},
     "output_type": "execute_result"
    },
    {
     "data": {
      "image/png": "[encoded data removed]",
      "text/plain": [
       "<matplotlib.figure.Figure at 0x10acfdb90>"
      ]
     },
     "metadata": {},
     "output_type": "display_data"
    }
   ],
   "source": [
    "pl.clf()\n",
    "f_x, f_y = f(50)\n",
    "pl.plot(f_x, f_y)\n",
    "x, y = sample(50)\n",
    "pl.plot(x, y, 'k.')"
   ]
  },
  {
   "cell_type": "code",
   "execution_count": 7,
   "metadata": {
    "collapsed": false
   },
   "outputs": [
    {
     "data": {
      "text/plain": [
       "[<matplotlib.lines.Line2D at 0x11222cf90>]"
      ]
     },
     "execution_count": 7,
     "metadata": {},
     "output_type": "execute_result"
    },
    {
     "data": {
      "image/png": "[encoded data removed]",
      "text/plain": [
       "<matplotlib.figure.Figure at 0x112050350>"
      ]
     },
     "metadata": {},
     "output_type": "display_data"
    }
   ],
   "source": [
    "model = fit_polynomial(x, y, 8)\n",
    "p_y = apply_polynomial(model, x)\n",
    "pl.plot(f_x, f_y)\n",
    "pl.plot(x, y, 'k.')\n",
    "pl.plot(x, p_y)"
   ]
  },
  {
   "cell_type": "markdown",
   "metadata": {},
   "source": [
    "## Cwiczenie 1 [2 pkt]\n",
    "\n",
    "W idealnym świecie, jeśli mielibyśmy dostęp do procesu generowania danych to możnaby znaleźć optymalny model oraz oszacować jego bias i variance.\n",
    "\n",
    "1. Napisz kod, ktory liczy bias, variance oraz MSE dla różnych wartości K.\n",
    "\n",
    "2. Dla jakich wartości można powiedzieć że mamy model \"High variance/low bias\"?\n",
    "\n",
    "3. Jaka wartość daje minimum błędu\n",
    "\n",
    "Oczekiwany wynik: \n",
    "\n",
    "<img src=\"figures/L5/L5_1_wynik.png\">"
   ]
  },
  {
   "cell_type": "code",
   "execution_count": 9,
   "metadata": {
    "collapsed": false
   },
   "outputs": [
    {
     "ename": "SyntaxError",
     "evalue": "invalid syntax (<ipython-input-9-3d2adfa23168>, line 3)",
     "output_type": "error",
     "traceback": [
      "\u001b[0;36m  File \u001b[0;32m\"<ipython-input-9-3d2adfa23168>\"\u001b[0;36m, line \u001b[0;32m3\u001b[0m\n\u001b[0;31m    bias = ...\u001b[0m\n\u001b[0m           ^\u001b[0m\n\u001b[0;31mSyntaxError\u001b[0m\u001b[0;31m:\u001b[0m invalid syntax\n"
     ]
    }
   ],
   "source": [
    "for k in range(1, 9):\n",
    "    model = fit_polynomial(x, y, K)\n",
    "    bias = ...\n",
    "    variance = ...\n",
    "    mse = ...\n",
    "# Plot"
   ]
  },
  {
   "cell_type": "markdown",
   "metadata": {},
   "source": [
    "### Poziom 2 wtajemniczenia\n",
    "\n",
    "Ref: https://en.wikipedia.org/wiki/Estimator, http://blog.evjang.com/2016/09/variance-reduction-part1.html\n",
    "\n",
    "Mówiliśmy o błędzie modelu. Bias-variance dotyczy *dowolnej estymacji*! (np. pogody lub średniej)\n",
    "\n",
    "Zdefiniujmy dowolny estymator: $\\hat{\\theta}(X)$ np:\n",
    "\n",
    "* $mean(x_1, \\ldots, x_n) = \\frac{1}{n} \\sum x_i$\n",
    "* $cov(x_1, \\ldots, x_n) = \\frac{1}{n-1} \\sum x_i^T x_i$\n",
    "\n",
    "\n",
    "Wtedy także zachodzi:\n",
    "\n",
    "$MSE(\\hat{\\theta}(X)) = var(\\hat{\\theta}) +  (B(\\hat{\\theta}))^2$\n",
    "\n",
    "Estymatorem też są dowolne metody Monte Carlo, np. estymujące prawdopodobieństwo wygrania w Monty Hall lub powierzchnie figury. Podobnie jak w machine learningu, istnieją sposoby zmniejszenia wariancji. Np. w metodach Monte Carlo estymujących wartość funkcji można samplować nie losowe punkty, are pary punktów na przeciwko siebie względem środka.\n",
    "\n",
    "<img width=300 src=\"figures/L5/mc_target.png\">\n",
    "<img width=300 src=\"figures/L5/mc_norm.png\">\n",
    "<img width=300 src=\"figures/L5/mc_ant.png\">"
   ]
  },
  {
   "cell_type": "markdown",
   "metadata": {},
   "source": [
    "## Cwiczenie 2 [1 pkt]\n",
    "\n",
    "Im więcej podziałów w Cross Validation tym mniejczy czy większy variance estymatora? Odpowiedź uzasadnij."
   ]
  },
  {
   "cell_type": "markdown",
   "metadata": {},
   "source": [
    "# Regularyzacja\n",
    "\n",
    "Regularyzacja zwiększa bias ale zmniejsza variance. Przykład regularyzacji to L1/L2 w regresji liniowej."
   ]
  },
  {
   "cell_type": "markdown",
   "metadata": {},
   "source": [
    "### Regularyzacja - podejście \"praktyczne\"\n",
    "\n",
    "Patrząc na wykresy w sekcji \"Bias variance\" logiczne wydaje się ograniczenie norm parametrów:\n",
    "\n",
    "$ C(M) = \\sum_i || f(x) - y) ||_2^2 + \\lambda ||\\theta||^2 $\n",
    "\n",
    "Wtedy niemożliwe (tzn. będzie lepsze rozwiązanie w klasie hipotez) będzie dokładne dopasowanie się do 10 punktów jeśli uczymy wielomian 10 stopnia. "
   ]
  },
  {
   "cell_type": "markdown",
   "metadata": {},
   "source": [
    "### Kontury funkcji kosztu"
   ]
  },
  {
   "cell_type": "markdown",
   "metadata": {},
   "source": [
    "Poziomice C(M), osobno dla 2 członów (MSE oraz regularyzacja). Prawy wykres to L1, lewy to L2.\n",
    "\n",
    "<img width=600 src=\"figures/L5/cont.png\">"
   ]
  },
  {
   "cell_type": "markdown",
   "metadata": {},
   "source": [
    "### Formalizacja Bayesowska regularyzacji\n",
    "\n",
    "Podejście Bayesowskie formalizuje powyższą intuicję i to wszystko! Jeśli nasz prior odpowiada rzeczywistości, to błąd na zbiorze testującym będzie niski.\n",
    "\n",
    "Faktycznie - w rzeczywistości często funkcje/zjawiska są wytłumaczalne przez małą ilość zmiennych (regularyzacja L1), dlatego też jest ona tak wysoce skuteczna."
   ]
  },
  {
   "cell_type": "markdown",
   "metadata": {},
   "source": [
    "## Cwiczenie 3 [1 pkt]\n",
    "\n",
    "Pokazać, że logarytmu rozkładu posterior $p(\\theta | X, y)$ dla regresji liniowej ma taką samą forme jak $C(M)$."
   ]
  },
  {
   "cell_type": "markdown",
   "metadata": {},
   "source": [
    "### Inne regularyzacje\n",
    "\n",
    "Możemy zdefiniować bardzo dużo sensownych \"priorów\", czy też sposobów regularyzacji. "
   ]
  }
 ],
 "metadata": {
  "kernelspec": {
   "display_name": "Python 2",
   "language": "python",
   "name": "python2"
  },
  "language_info": {
   "codemirror_mode": {
    "name": "ipython",
    "version": 2
   },
   "file_extension": ".py",
   "mimetype": "text/x-python",
   "name": "python",
   "nbconvert_exporter": "python",
   "pygments_lexer": "ipython2",
   "version": "2.7.11"
  },
  "toc": {
   "toc_cell": false,
   "toc_number_sections": true,
   "toc_threshold": 6,
   "toc_window_display": false
  }
 },
 "nbformat": 4,
 "nbformat_minor": 0
}
