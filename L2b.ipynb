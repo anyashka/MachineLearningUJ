{
 "cells": [
  {
   "cell_type": "markdown",
   "metadata": {},
   "source": [
    "# Ciąg dalszy zaprzyjaźniania się z rozkładem Gaussa\n",
    "\n",
    "Jeśli popatrzymy na wzór opisujący wielowymiarowy rozkład Gaussa (a konkretnie na wartość wykładnika), to zobaczymy tam taki fragment:\n",
    "$$(x-\\mu)^T\\Sigma^{-1}(x-\\mu)$$\n",
    "\n",
    "Zauważmy, że:\n",
    "1. Można pozbyć się $\\mu$ przesuwając wykres funkcji o $-\\mu$ (powtórka z gimnazjum).\n",
    "2. Zmienna $x$ występuje tylko w tym kawałku wzoru."
   ]
  },
  {
   "cell_type": "markdown",
   "metadata": {},
   "source": [
    "## Macierz dodatnio określona\n",
    "\n",
    "W przestrzeni euklidesowej mamy dany kanoniczny iloczyn skalarny oraz pochodzącą od niego normę:\n",
    "$$\\|v\\|^2 = \\langle v,v \\rangle$$\n",
    "wtedy zbiór wektorów o długości jednostkowej to po prostu sfera.\n",
    "\n",
    "Okazuje się, że możemy zdefiniować nieskończenie wiele różnych iloczynów skalarnych, a każdy z nich związany jest z pewną dodatnio określoną macierzą $A$:\n",
    "$$\\|v\\|^2 = v^T A v$$\n",
    "\n",
    "Jeśli za $A$ podstawimy $I$ (macierz identycznościową), to otrzymamy poprzedni wzór.\n",
    "\n",
    "Dla różnych iloczynów skalarnych wektory długości jednostkowej układają się na elipsoidzie. Jej kształt (długość osi) oraz położenie (obrót) zależą tylko od macierzy $A$. Jeśli zamiast $A$ użyjemy macierzy odwrotnej $A^{-1}$ (macierz dodatnio określona jest odwracalna, a jej odwrotność też jest dodatnio określona), to otrzymamy elipsę o tak samo zorientowanych osiach, ale o odwrotnych długościach (zamiast 5 będzie $\\frac15$ itp.)."
   ]
  },
  {
   "cell_type": "markdown",
   "metadata": {},
   "source": [
    "### Uwaga dot. rysowania histogramów\n",
    "\n",
    "W poniższych ćwiczeniach histogramy mają reprezentować gęstości rozkładów prawdopodobieństwa, dlatego podczas rysowania zawsze należy je normalizować."
   ]
  },
  {
   "cell_type": "markdown",
   "metadata": {},
   "source": [
    "## Ćwiczenie 1 (2 pkt)\n",
    "\n",
    "Napisać funkcję, która przyjmuje dwuwymiarową dodatnio określoną macierz $A$, a następnie:\n",
    "1. Rysuje heatmap dla $v^TAv$.\n",
    "2. Na tym samym wykresie:\n",
    "    - rysuje okrąg jednostkowy,\n",
    "    - rysuje elipsę jednostkową dla $A$,\n",
    "    - rysuje elipsę jednostkową dla $A^{-1}$.\n",
    "\n",
    "Jedyną trudność może sprawić narysowanie elipsy jednostkowej. Proponuję zrobić to w następujący sposób:\n",
    "1. Zacząć od listy wektorów na okręgu jednostkowym - punkty postaci $(\\cos(\\alpha), \\sin(\\alpha))$, gdzie $\\alpha$ są rozmieszczone równomiernie na odcinku $[0,2\\pi)$.\n",
    "2. Dla każdego wektora $v$ liczymy $\\|v\\|^2 = v^TAv$ - chcielibyśmy, żeby $\\|v\\| = 1$, więc w tym celu wystarczy zastąpić $v$ przez $\\frac{v}{\\sqrt{v^TAv}}$.\n",
    "3. Mamy listę kolejnych punktów leżących na elipsie jednostkowej macierzy $A$, rysujemy je i łączymy odcinkami.\n",
    "\n",
    "Oczywiście najwygodniej będzie stworzyć funkcję pomocniczą draw_ellipse, której podamy kolejno macierz identycznościową (aby uzyskać okrąg), macierz $A$ i $A^{-1}$."
   ]
  },
  {
   "cell_type": "code",
   "execution_count": null,
   "metadata": {
    "collapsed": true
   },
   "outputs": [],
   "source": [
    "# Spodziewany efekt - albo mała elipsa wewnątrz okręgu wewnątrz dużej elipsy,\n",
    "# albo duża i mała elipsa przecinają się dokładnie na okręgu"
   ]
  },
  {
   "cell_type": "markdown",
   "metadata": {},
   "source": [
    "## Wracamy do wzoru na gęstość\n",
    "\n",
    "Wiemy już, że $(x-\\mu)^T\\Sigma^{-1}(x-\\mu)$ oznacza \"elipsową\" odległość $x$ od $\\mu$. Ponieważ ta odległość umieszczona jest ze znakiem minus pod funkcją wykładniczą, oznacza to, że w punkcie $x=\\mu$ gęstość jest największa, natomiast przy uciekaniu $x$ do nieskończoności gęstość maleje wykładniczo. Poziomice gęstości to elipsy wyliczone z macierzy $\\Sigma^{-1}$. Właśnie dlatego rozkład Gaussa ma taki, a nie inny kształt."
   ]
  },
  {
   "cell_type": "markdown",
   "metadata": {},
   "source": [
    "## Macierz kowariancji to faktycznie macierz kowariancji\n",
    "\n",
    "Jeśli losujemy punkty z $n$-wymiarowego rozkładu Gaussa, to każdą współrzędną możemy traktować jako oddzielną zmienną losową. Zmienne te mogą być skorelowane - jeśli np. losujemy z dwuwymiarowego rozkładu Gaussa i współrzędne będą dodatnio skorelowane, to większa część elipsy (o której mowa powyżej) znajdzie się w pierwszej i trzeciej ćwiartce układu współrzędnych, ponieważ tam punkty mają zgodne znaki. Ujemna korelacja spowoduje, że elipsa obróci się tak, aby jej duża część znajdowała się w drugiej i czwartej ćwiartce układu współrzędnych (przeciwne znaki współrzędnych punktów). Brak korelacji będzie oznaczał, że osi elipsy ustawią się równolegle do osi układu współrzędnych.\n",
    "\n",
    "Wzór na estymator macierzy kowariancji można znaleźć tu (oznaczony literą $\\mathbf{Q}$):\n",
    "https://en.wikipedia.org/wiki/Sample_mean_and_covariance\n",
    "\n",
    "Proszę się zastanowić, jak wygląda wzór na $\\mathbf{Q}_{i,j}$ dla ustalonych $i$ i $j$ - jest to po prostu estymator kowariancji dwóch zmiennych losowych.\n",
    "Proszę się też zastanowić, jak wygląda wzór na $\\mathbf{Q}_{i,i}$ dla ustalonego $i$ - jest to estymator wariancji."
   ]
  },
  {
   "cell_type": "markdown",
   "metadata": {},
   "source": [
    "## Ćwiczenie 2 (1 pkt)\n",
    "\n",
    "Wylosować 1000 punktów z dwuwymiarowego rozkładu normalnego o losowej macierzy $\\Sigma$. Następnie wyestymować kowariancje z próbki i porównać z macierzą kowariancji."
   ]
  },
  {
   "cell_type": "code",
   "execution_count": null,
   "metadata": {
    "collapsed": true
   },
   "outputs": [],
   "source": [
    "# Spodziewany wynik - powinno wyjść prawie to samo"
   ]
  },
  {
   "cell_type": "markdown",
   "metadata": {},
   "source": [
    "Przypomnijmy teraz jeszcze kilka ważnych własności, które sprawiają, że rozkład Gaussa w naturalny sposób pojawia się w zastosowaniach praktycznych."
   ]
  },
  {
   "cell_type": "markdown",
   "metadata": {},
   "source": [
    "## Rozkład produktowy, rozkład brzegowy\n",
    "\n",
    "Produkt jednowymiarowych rozkładów Gaussa jest wielowymiarowym rozkładem Gaussa. Kształt tego rozkładu to elipsa, której osi ustawione są wzdłuż osi kanonicznych (a więc nie każdy wielowymiarowy rozkład Gaussa jest produktem rozkładów jednowymiarowych). Długości osi elipsy są bezpośrednio związane z wariancjami rozkładów jednowymiarowych.\n",
    "\n",
    "Rozkład brzegowy dowolnego wielowymiarowego rozkładu Gaussa jest rozkładem Gaussa.\n",
    "\n",
    "Rozkład Gaussa można przesuwać, obracać i rozciągać (transformacje afiniczne), a wciąż będzie to rozkład Gaussa."
   ]
  },
  {
   "cell_type": "markdown",
   "metadata": {},
   "source": [
    "## Ćwiczenie 3 (1 pkt)\n",
    "\n",
    "Wylosować dwie serie po 1000 punktów z dwóch różnych jednowymiarowych rozkładów Gaussa. Narysować histogramy. Następnie umieścić wyniki w tabeli 1000 na 2 i narysować rozkład produktowy (zaznaczyć wylosowane pary punktów na płaszczyźnie)."
   ]
  },
  {
   "cell_type": "code",
   "execution_count": null,
   "metadata": {
    "collapsed": true
   },
   "outputs": [],
   "source": [
    "# spodziewany wynik - elipsa o osiach ustawionych równolegle do osi układu współrzędnych"
   ]
  },
  {
   "cell_type": "markdown",
   "metadata": {},
   "source": [
    "## Ćwiczenie 4 (1 pkt)\n",
    "\n",
    "Wziąć dane z poprzedniego ćwiczenia (tysiąc punktów na płaszczyźnie) i obrócić zbiór danych o kąt $\\alpha$ (np. 43 stopnie) względem początku układu współrzędnych - w tym celu każdy wiersz tabeli z danymi należy przemnożyć przez macierz:\n",
    "$$\\begin{bmatrix}\n",
    "    \\cos(\\alpha) & -\\sin(\\alpha) \\\\\n",
    "    \\sin(\\alpha) & \\cos(\\alpha) \\\\\n",
    "\\end{bmatrix}$$\n",
    "\n",
    "Narysować nowe punkty na płaszczyźnie.\n",
    "\n",
    "Narysować histogramy rozkładów brzegowych (czyli wziąć pierwszą współrzędną wszystkich punktów i narysować dla niej histogram, potem analogicznie zrobić z drugą współrzędną). Sprawdzić (wizualnie), że rozkłady brzegowe są rozkładami Gaussa."
   ]
  },
  {
   "cell_type": "code",
   "execution_count": null,
   "metadata": {
    "collapsed": true
   },
   "outputs": [],
   "source": [
    "# Assert:\n",
    "# przyjąć alpha = Pi/2\n",
    "# wtedy drugi rozkład brzegowy powinien być pierwszym rozkładem z poprzedniego ćwiczenia,\n",
    "# a pierwszy rozkład brzegowy odbiciem symetrycznym względem zera drugiego rozkładu\n",
    "# z poprzedniego ćwiczenia (dlaczego?)"
   ]
  },
  {
   "cell_type": "markdown",
   "metadata": {},
   "source": [
    "## Ćwiczenie 5 (1 pkt)\n",
    "\n",
    "Powtórzyć dwa poprzednie ćwiczenia, ale na początku wylosować po 1000 punktów z dwóch różnych rozkładów jednostajnych (pierwszy na odcinku $[a, b]$, drugi na odcinku $[c, d]$). Sprawdzić, że po obrocie rozkład brzegowy nie jest jednostajny."
   ]
  },
  {
   "cell_type": "code",
   "execution_count": null,
   "metadata": {
    "collapsed": true
   },
   "outputs": [],
   "source": [
    "# Spodziewany efekt - rozkład brzegowy ma kształt trapezu."
   ]
  },
  {
   "cell_type": "markdown",
   "metadata": {},
   "source": [
    "Suma dwóch rozkładów Gaussa jest rozkładem Gaussa."
   ]
  },
  {
   "cell_type": "markdown",
   "metadata": {},
   "source": [
    "## Ćwiczenie 6 (1 pkt)\n",
    "\n",
    "Wykorzystać dwie serie danych z ćwiczenia 2. w celu udowodnienia powyższej uwagi - stworzyć odpowiednią trzecią serię danych (jaką?) i narysować jej histogram. Sprawdzić wizualnie, że jest to rozkład Gaussa.\n",
    "\n",
    "Powtórzyć dla serii danych z rozkładu jednostajnego (ćwiczenie 4.), przekonać się, że suma rozkładów jednostajnych nie jest rozkładem jednostajnym. "
   ]
  },
  {
   "cell_type": "code",
   "execution_count": null,
   "metadata": {
    "collapsed": true
   },
   "outputs": [],
   "source": [
    "# Spodziewany efekt:\n",
    "#  - histogram rozkładu Gaussa\n",
    "#  - histogram w kształcie trapezu równoramiennego lub trójkąta"
   ]
  },
  {
   "cell_type": "markdown",
   "metadata": {},
   "source": [
    "## Centralne Twierdzenie Graniczne\n",
    "\n",
    "Wersja prawdziwa:\n",
    "https://pl.wikipedia.org/wiki/Centralne_twierdzenie_graniczne\n",
    "\n",
    "Wersja na nasze potrzeby:\n",
    "Jeśli doda się do siebie dużo różnych zmiennych losowych, to ich suma zaczyna przypominać rozkład Gaussa. Zawsze."
   ]
  },
  {
   "cell_type": "markdown",
   "metadata": {},
   "source": [
    "## Ćwiczenie 7 (1 pkt)\n",
    "\n",
    "\"Udowodnić\" powyższe twierdzenie w następujący sposób:\n",
    "1. Wylosować $k$ serii po 1000 punktów z rozkładu jednostajnego na odcinku $[0,1]$.\n",
    "2. Zsumować te rozkłady.\n",
    "3. Narysować histogramy sumy np. dla $k = 1, 2, 3, 5, 10$.\n",
    "4. (Dla odważnych) Zamiast sumy zastosować poprawny wzór z Wikipedii (od każdego rozkładu odjąć średnią, uśrednić arytmetycznie zamiast sumować, przypomnieć sobie wzór na $\\sigma$ rozkładu jednostajnego na odcinku, podzielić przez $\\frac{\\sigma}{\\sqrt{n}}$)."
   ]
  },
  {
   "cell_type": "markdown",
   "metadata": {},
   "source": [
    "### Więcej o rozkładzie normalnym\n",
    "\n",
    "https://www.cs.ox.ac.uk/people/nando.defreitas/machinelearning/lecture3.pdf"
   ]
  }
 ],
 "metadata": {
  "kernelspec": {
   "display_name": "Python 2",
   "language": "python2",
   "name": "python2"
  },
  "language_info": {
   "codemirror_mode": {
    "name": "ipython",
    "version": 2
   },
   "file_extension": ".py",
   "mimetype": "text/x-python",
   "name": "python",
   "nbconvert_exporter": "python",
   "pygments_lexer": "ipython2",
   "version": "2.7.13"
  }
 },
 "nbformat": 4,
 "nbformat_minor": 2
}
